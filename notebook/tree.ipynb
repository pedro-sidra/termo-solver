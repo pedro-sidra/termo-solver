{
 "cells": [
  {
   "cell_type": "code",
   "execution_count": null,
   "metadata": {},
   "outputs": [],
   "source": [
    "import numpy as np\n",
    "import pandas as pd\n",
    "import matplotlib.pyplot as plt"
   ]
  },
  {
   "cell_type": "markdown",
   "metadata": {},
   "source": [
    "# Load data\n",
    "\n",
    "Data coming from `vectorize.ipynb`, contains:\n",
    "\n",
    "* `words`: Nx1 array of words to be considered\n",
    "* `greens`: NxN matrix containing green matches of word $i$ with word $j$ for $(i,j) \\in [0,N-1]^2$\n",
    "* `yellows`: NxN matrix containing yellow matches of word $i$ with word $j$ for $(i,j) \\in [0,N-1]^2$\n",
    "\n",
    "`greens` and `yellows` are encoded as 5-bit numbers, with bit `0` corresponding to the first letter, bit `1` to the second, and so on.\n",
    "\n",
    "So if $greens[i,j]$ = `20` = `0b10100` this means that when you type word $i$ and the secret word is word $j$, then the last and middle letters of $i$ will be green (read the code as little-endian correspondence with the string).\n",
    "\n",
    "We`ll call $i$ the query index and $j$ the match index."
   ]
  },
  {
   "cell_type": "code",
   "execution_count": null,
   "metadata": {},
   "outputs": [],
   "source": [
    "read = np.load(\"matches.npz\", allow_pickle=True)\n",
    "greens = read[\"greens\"]\n",
    "yellows = read[\"yellows\"]\n",
    "words = pd.DataFrame(data=dict(words=read[\"words\"]))\n",
    "\n",
    "N = len(words)\n",
    "\n",
    "print(f\"{greens.shape=}\")\n",
    "print(f\"{yellows.shape=}\")\n",
    "print(words)"
   ]
  },
  {
   "cell_type": "markdown",
   "metadata": {},
   "source": [
    "# Entropy\n",
    "\n",
    "To solve the tree we`ll need to calculate entropy. \n",
    "\n",
    "First, we join `greens` and `yellows` in a single matrix using a bitshift."
   ]
  },
  {
   "cell_type": "code",
   "execution_count": null,
   "metadata": {},
   "outputs": [],
   "source": [
    "M = greens.astype(np.uint16) + (yellows.astype(np.uint16) << 5)\n",
    "del greens\n",
    "del yellows\n",
    "M"
   ]
  },
  {
   "cell_type": "markdown",
   "metadata": {},
   "source": [
    "Now we calculate the item frequency in M.\n",
    "\n",
    "(from this we could generate the plots from 3blue1brown`s video)"
   ]
  },
  {
   "cell_type": "code",
   "execution_count": null,
   "metadata": {},
   "outputs": [],
   "source": [
    "def freqs(M):\n",
    "    if M.ndim > 1:\n",
    "        counts = [np.unique(m, return_counts=True)[1] for m in M]\n",
    "        return [c/np.sum(c) for c in counts]\n",
    "        # return [c for c in counts]\n",
    "    else:\n",
    "        counts = np.unique(M, return_counts=True)[1]\n",
    "        s = np.sum(counts)\n",
    "        return counts/s\n",
    "            \n",
    "\n",
    "information = [ np.sum(f*-np.log2(f)) for f in freqs(M) ]\n",
    "infoDf = words.copy()\n",
    "infoDf[\"information\"] = information\n",
    "infoDf"
   ]
  },
  {
   "cell_type": "markdown",
   "metadata": {},
   "source": [
    "## The best word\n",
    "\n",
    "The best first guess is the one that gives the most information:"
   ]
  },
  {
   "cell_type": "code",
   "execution_count": null,
   "metadata": {},
   "outputs": [],
   "source": [
    "# word = words.iloc[np.argmax(information)].words\n",
    "# print(f\"{ np.max(information)=}\")\n",
    "# print(f\"{word=}\")\n",
    "infoDf.sort_values(by=\"information\", ascending=False).head(n=20)"
   ]
  },
  {
   "cell_type": "code",
   "execution_count": null,
   "metadata": {},
   "outputs": [],
   "source": [
    "i = np.argmax(information)\n",
    "f = freqs(M[i])\n",
    "plt.bar(range(len(f)), sorted(f, key=lambda x: -x))\n",
    "\n",
    "i = 25\n",
    "f = freqs(M[i])\n",
    "plt.bar(range(len(f)), sorted(f, key=lambda x: -x))"
   ]
  },
  {
   "cell_type": "markdown",
   "metadata": {},
   "source": [
    "# Iteration!\n",
    "\n",
    "You can solve Termo by iterating here, changing the variables \"Guesses\" and \"Matches\""
   ]
  },
  {
   "cell_type": "code",
   "execution_count": null,
   "metadata": {},
   "outputs": [],
   "source": [
    "guesses = [\"cario\",\"aruga\",\"andem\"]\n",
    "matches = [\"-yy--\",\"gg--g\",\"gy-y-\"]\n",
    "\n",
    "_bitValues = 2**np.arange(5)\n",
    "def match_to_code(matchstring):\n",
    "    green = 1*np.asarray([l==\"g\" for l in matchstring])\n",
    "    yellow = 1*np.asarray([l==\"y\" for l in matchstring])\n",
    "    return np.sum(_bitValues*green) + (np.sum(_bitValues*yellow) << 5)\n",
    "\n",
    "subWords = words\n",
    "subM = M\n",
    "for guess, matchstr in zip(guesses,matches):\n",
    "    match = match_to_code(matchstr)\n",
    "\n",
    "    indexQuery = words.query(\"words==@guess\").index[0]\n",
    "\n",
    "    #(subM[indexQuery]!=0b0000011111)\n",
    "    sub = np.where(subM[indexQuery]==match)[0]\n",
    "    subM = subM[:,sub]\n",
    "\n",
    "    subWords = subWords.iloc[sub]\n",
    "\n",
    "\n",
    "information = [ np.sum(f*-np.log2(f)) for f in freqs(subM) ]\n",
    "words[\"information\"] = information\n",
    "words[\"inSubset\"] = 0\n",
    "words.loc[subWords.index,\"inSubset\"] = 1\n",
    "subWords.loc[:,\"information\"] = words.loc[subWords.index,\"information\"]\n",
    "if(len(subWords) > 10):\n",
    "    print(f\"{ len(subWords)= }\")\n",
    "else:\n",
    "    print(f\"{len(subWords)} words left:\")\n",
    "    print(words.query(\"words in @subWords.words.values\"))\n",
    "\n",
    "print(\"Guesses:\")\n",
    "print(words.sort_values(by=[ \"information\",\"inSubset\" ], ascending=False).head(n=10))"
   ]
  },
  {
   "cell_type": "code",
   "execution_count": null,
   "metadata": {},
   "outputs": [],
   "source": [
    "subWords.sort_values(by=\"information\", ascending=False)"
   ]
  },
  {
   "cell_type": "code",
   "execution_count": null,
   "metadata": {},
   "outputs": [],
   "source": [
    "T = np.array([1,1,1.0])\n",
    "f = freqs(T)\n",
    "np.sum(f*-np.log2(f)) "
   ]
  },
  {
   "cell_type": "markdown",
   "metadata": {},
   "source": [
    "# Decision tree"
   ]
  },
  {
   "cell_type": "code",
   "execution_count": null,
   "metadata": {},
   "outputs": [],
   "source": [
    "print(\"TODO!\")"
   ]
  }
 ],
 "metadata": {
  "interpreter": {
   "hash": "843dce7d03e89fe4bf32be7f8c24be4adfeab22fe4e6b867a51e03289bbff473"
  },
  "kernelspec": {
   "display_name": "Python 3.8.12 (conda)",
   "language": "python",
   "name": "python3"
  },
  "language_info": {
   "codemirror_mode": {
    "name": "ipython",
    "version": 3
   },
   "file_extension": ".py",
   "mimetype": "text/x-python",
   "name": "python",
   "nbconvert_exporter": "python",
   "pygments_lexer": "ipython3",
   "version": "3.8.12"
  },
  "orig_nbformat": 4
 },
 "nbformat": 4,
 "nbformat_minor": 2
}
